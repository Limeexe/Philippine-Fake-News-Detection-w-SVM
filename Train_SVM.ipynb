{
 "cells": [
  {
   "cell_type": "markdown",
   "metadata": {},
   "source": [
    "This Jupyter notebook implements a Support Vector Machine (SVM) model for fake news detection, including data preprocessing, model training with hyperparameter tuning, evaluation using various metrics and visualizations, and a function for making predictions on new text inputs."
   ]
  },
  {
   "cell_type": "code",
   "execution_count": 84,
   "metadata": {},
   "outputs": [],
   "source": [
    "import numpy as np\n",
    "import pandas as pd\n",
    "from datasets import load_dataset\n",
    "from sklearn.model_selection import train_test_split, GridSearchCV\n",
    "from sklearn.feature_extraction.text import TfidfVectorizer\n",
    "from sklearn.metrics import classification_report, accuracy_score, confusion_matrix, roc_curve, auc, precision_recall_curve\n",
    "from sklearn.svm import SVC\n",
    "import nltk\n",
    "from nltk.corpus import stopwords\n",
    "from nltk.tokenize import word_tokenize\n",
    "import re\n",
    "import matplotlib.pyplot as plt\n",
    "import seaborn as sns\n",
    "import pickle\n",
    "import os"
   ]
  },
  {
   "cell_type": "markdown",
   "metadata": {},
   "source": [
    "This code downloads the Punkt tokenizer models and stopwords list from NLTK, which are essential for text preprocessing tasks such as sentence tokenization and stopword removal in the fake news detection model."
   ]
  },
  {
   "cell_type": "code",
   "execution_count": 63,
   "metadata": {},
   "outputs": [
    {
     "name": "stderr",
     "output_type": "stream",
     "text": [
      "[nltk_data] Downloading package punkt to\n",
      "[nltk_data]     C:\\Users\\belmo\\AppData\\Roaming\\nltk_data...\n",
      "[nltk_data]   Package punkt is already up-to-date!\n",
      "[nltk_data] Downloading package stopwords to\n",
      "[nltk_data]     C:\\Users\\belmo\\AppData\\Roaming\\nltk_data...\n",
      "[nltk_data]   Package stopwords is already up-to-date!\n"
     ]
    },
    {
     "data": {
      "text/plain": [
       "True"
      ]
     },
     "execution_count": 63,
     "metadata": {},
     "output_type": "execute_result"
    }
   ],
   "source": [
    "# Download necessary NLTK data\n",
    "nltk.download('punkt')\n",
    "nltk.download('stopwords')"
   ]
  },
  {
   "cell_type": "markdown",
   "metadata": {},
   "source": [
    "This code loads a custom dataset named \"dataset_train_thesis\" from the Hugging Face Datasets library, which is likely a dataset specifically created for training a thesis-related machine learning model."
   ]
  },
  {
   "cell_type": "code",
   "execution_count": 64,
   "metadata": {},
   "outputs": [],
   "source": [
    "# Load the dataset\n",
    "dataset = load_dataset(\"nixbel/dataset_train_thesis\")"
   ]
  },
  {
   "cell_type": "markdown",
   "metadata": {},
   "source": [
    "This code converts the loaded dataset's 'train' split into a pandas DataFrame, facilitating easier data manipulation and analysis for the subsequent steps in the machine learning pipeline."
   ]
  },
  {
   "cell_type": "code",
   "execution_count": 65,
   "metadata": {},
   "outputs": [],
   "source": [
    "# Convert to pandas DataFrame for easier manipulation\n",
    "data = dataset['train'].to_pandas()"
   ]
  },
  {
   "cell_type": "markdown",
   "metadata": {},
   "source": [
    "\n",
    "\n",
    "This code converts the 'Label' column to binary values (0 for credible, 1 for suspicious) and displays the first few rows of the resulting DataFrame, allowing for a quick verification of the label encoding and overall data structure."
   ]
  },
  {
   "cell_type": "code",
   "execution_count": 66,
   "metadata": {},
   "outputs": [
    {
     "data": {
      "text/html": [
       "<div>\n",
       "<style scoped>\n",
       "    .dataframe tbody tr th:only-of-type {\n",
       "        vertical-align: middle;\n",
       "    }\n",
       "\n",
       "    .dataframe tbody tr th {\n",
       "        vertical-align: top;\n",
       "    }\n",
       "\n",
       "    .dataframe thead th {\n",
       "        text-align: right;\n",
       "    }\n",
       "</style>\n",
       "<table border=\"1\" class=\"dataframe\">\n",
       "  <thead>\n",
       "    <tr style=\"text-align: right;\">\n",
       "      <th></th>\n",
       "      <th>Headline</th>\n",
       "      <th>Authors</th>\n",
       "      <th>Date</th>\n",
       "      <th>Content</th>\n",
       "      <th>Brand</th>\n",
       "      <th>URL</th>\n",
       "      <th>Label</th>\n",
       "    </tr>\n",
       "  </thead>\n",
       "  <tbody>\n",
       "    <tr>\n",
       "      <th>0</th>\n",
       "      <td>Carlo Paalam outclasses Irish foe to zero in o...</td>\n",
       "      <td>delfin.dioquino editor</td>\n",
       "      <td>31/07/2024 22:35</td>\n",
       "      <td>WINNER. Boxer Carlo Paalam of the Philippines ...</td>\n",
       "      <td>Rappler</td>\n",
       "      <td>https://www.rappler.com/sports/boxing/fight-re...</td>\n",
       "      <td>0</td>\n",
       "    </tr>\n",
       "    <tr>\n",
       "      <th>1</th>\n",
       "      <td>Fishing banned in Limay, Bataan due to oil spill</td>\n",
       "      <td>Iya Gozum</td>\n",
       "      <td>30/07/2024 16:02</td>\n",
       "      <td>Members of the Philippine Coast Guard create i...</td>\n",
       "      <td>Rappler</td>\n",
       "      <td>https://www.rappler.com/philippines/luzon/fish...</td>\n",
       "      <td>0</td>\n",
       "    </tr>\n",
       "    <tr>\n",
       "      <th>2</th>\n",
       "      <td>No POGOs inside Cagayan special economic zone,...</td>\n",
       "      <td>Joann Manabat - CMS</td>\n",
       "      <td>31/07/2024 17:40</td>\n",
       "      <td>'NO POGOS IN CEZA.' Cagayan Economic Zone Auth...</td>\n",
       "      <td>Rappler</td>\n",
       "      <td>https://www.rappler.com/philippines/luzon/ceza...</td>\n",
       "      <td>0</td>\n",
       "    </tr>\n",
       "    <tr>\n",
       "      <th>3</th>\n",
       "      <td>Pizza for a cause! a mano and Toyo Eatery coll...</td>\n",
       "      <td>Steph Arnaldo</td>\n",
       "      <td>31/07/2024 17:59</td>\n",
       "      <td>MANILA, Philippines – Ever had tortang talong ...</td>\n",
       "      <td>Rappler</td>\n",
       "      <td>https://www.rappler.com/life-and-style/food-dr...</td>\n",
       "      <td>0</td>\n",
       "    </tr>\n",
       "    <tr>\n",
       "      <th>4</th>\n",
       "      <td>Tiramisu inventor Roberto Linguanotto dies at 81</td>\n",
       "      <td>jreyes0314</td>\n",
       "      <td>31/07/2024 18:15</td>\n",
       "      <td>TIramisu inventor Roberto Linguanotto dies at ...</td>\n",
       "      <td>Rappler</td>\n",
       "      <td>https://www.rappler.com/life-and-style/food-dr...</td>\n",
       "      <td>0</td>\n",
       "    </tr>\n",
       "  </tbody>\n",
       "</table>\n",
       "</div>"
      ],
      "text/plain": [
       "                                            Headline                 Authors  \\\n",
       "0  Carlo Paalam outclasses Irish foe to zero in o...  delfin.dioquino editor   \n",
       "1   Fishing banned in Limay, Bataan due to oil spill               Iya Gozum   \n",
       "2  No POGOs inside Cagayan special economic zone,...     Joann Manabat - CMS   \n",
       "3  Pizza for a cause! a mano and Toyo Eatery coll...           Steph Arnaldo   \n",
       "4   Tiramisu inventor Roberto Linguanotto dies at 81              jreyes0314   \n",
       "\n",
       "               Date                                            Content  \\\n",
       "0  31/07/2024 22:35  WINNER. Boxer Carlo Paalam of the Philippines ...   \n",
       "1  30/07/2024 16:02  Members of the Philippine Coast Guard create i...   \n",
       "2  31/07/2024 17:40  'NO POGOS IN CEZA.' Cagayan Economic Zone Auth...   \n",
       "3  31/07/2024 17:59  MANILA, Philippines – Ever had tortang talong ...   \n",
       "4  31/07/2024 18:15  TIramisu inventor Roberto Linguanotto dies at ...   \n",
       "\n",
       "     Brand                                                URL  Label  \n",
       "0  Rappler  https://www.rappler.com/sports/boxing/fight-re...      0  \n",
       "1  Rappler  https://www.rappler.com/philippines/luzon/fish...      0  \n",
       "2  Rappler  https://www.rappler.com/philippines/luzon/ceza...      0  \n",
       "3  Rappler  https://www.rappler.com/life-and-style/food-dr...      0  \n",
       "4  Rappler  https://www.rappler.com/life-and-style/food-dr...      0  "
      ]
     },
     "execution_count": 66,
     "metadata": {},
     "output_type": "execute_result"
    }
   ],
   "source": [
    "# Ensure labels are binary (0 for credible, 1 for suspicious)\n",
    "data['Label'] = data['Label'].map({'Credible': 0, 'Suspicious': 1})\n",
    "data.head()\n",
    "\n"
   ]
  },
  {
   "cell_type": "markdown",
   "metadata": {},
   "source": [
    "This code defines a text preprocessing function that performs several operations on input text: converting to lowercase, removing special characters and numbers, tokenizing, removing stopwords, and rejoining the processed tokens into a single string, which is crucial for preparing the text data for machine learning models."
   ]
  },
  {
   "cell_type": "code",
   "execution_count": 68,
   "metadata": {},
   "outputs": [],
   "source": [
    "# Text preprocessing function\n",
    "def preprocess_text(text):\n",
    "    # Convert to lowercase\n",
    "    text = text.lower()\n",
    "    # Remove special characters and numbers\n",
    "    text = re.sub(r'[^a-zA-Z\\s]', '', text)\n",
    "    # Tokenize\n",
    "    tokens = word_tokenize(text)\n",
    "    # Remove stopwords\n",
    "    stop_words = set(stopwords.words('english'))\n",
    "    tokens = [token for token in tokens if token not in stop_words]\n",
    "    # Join tokens back into string\n",
    "    return ' '.join(tokens)"
   ]
  },
  {
   "cell_type": "markdown",
   "metadata": {},
   "source": [
    "\n",
    "\n",
    "This code applies the previously defined `preprocess_text` function to the 'Content' column of the DataFrame, creating a new 'Processed_Content' column with the preprocessed text, which prepares the data for feature extraction and subsequent model training."
   ]
  },
  {
   "cell_type": "code",
   "execution_count": 69,
   "metadata": {},
   "outputs": [],
   "source": [
    "# Apply preprocessing to the 'text' column\n",
    "data['Processed_Content'] = data['Content'].apply(preprocess_text)\n"
   ]
  },
  {
   "cell_type": "markdown",
   "metadata": {},
   "source": [
    "This code splits the preprocessed content and corresponding labels into training and testing sets, using 80% of the data for training and 20% for testing, with a fixed random state for reproducibility."
   ]
  },
  {
   "cell_type": "code",
   "execution_count": 70,
   "metadata": {},
   "outputs": [],
   "source": [
    "# Split the data\n",
    "X_train, X_test, y_train, y_test = train_test_split(data['Processed_Content'], data['Label'], test_size=0.2, random_state=42)"
   ]
  },
  {
   "cell_type": "markdown",
   "metadata": {},
   "source": [
    "This code creates a TF-IDF vectorizer with a maximum of 5000 features and unigrams/bigrams, then applies it to transform the training and testing text data into numerical feature vectors suitable for machine learning models."
   ]
  },
  {
   "cell_type": "code",
   "execution_count": 71,
   "metadata": {},
   "outputs": [],
   "source": [
    "# TF-IDF Vectorization\n",
    "vectorizer = TfidfVectorizer(max_features=5000, ngram_range=(1, 2))\n",
    "X_train_tfidf = vectorizer.fit_transform(X_train)\n",
    "X_test_tfidf = vectorizer.transform(X_test)"
   ]
  },
  {
   "cell_type": "markdown",
   "metadata": {},
   "source": [
    "\n",
    "\n",
    "This code defines a Support Vector Machine (SVM) model with a radial basis function (RBF) kernel, enabling probability estimates and setting a fixed random state for reproducibility, which will be used for classifying the preprocessed and vectorized text data."
   ]
  },
  {
   "cell_type": "code",
   "execution_count": 72,
   "metadata": {},
   "outputs": [],
   "source": [
    "# Define SVM model\n",
    "svm = SVC(kernel='rbf', probability=True, random_state=42)"
   ]
  },
  {
   "cell_type": "markdown",
   "metadata": {},
   "source": [
    "\n",
    "\n",
    "This code defines a parameter grid for GridSearchCV, specifying different values for the 'C' and 'gamma' hyperparameters of the SVM model, which will be used to find the optimal combination of these parameters during the model tuning process."
   ]
  },
  {
   "cell_type": "code",
   "execution_count": 73,
   "metadata": {},
   "outputs": [],
   "source": [
    "# Define parameter grid for GridSearchCV\n",
    "param_grid = {\n",
    "    'C': [0.1, 1, 10, 100],\n",
    "    'gamma': ['scale', 'auto', 0.1, 1],\n",
    "}"
   ]
  },
  {
   "cell_type": "markdown",
   "metadata": {},
   "source": [
    "\n",
    "\n",
    "This code performs a grid search with cross-validation to find the optimal hyperparameters for the SVM model, trains the model on the entire training set using these parameters, and then assigns the best-performing model to the variable `best_svm` for further use in the fake news detection pipeline."
   ]
  },
  {
   "cell_type": "code",
   "execution_count": 74,
   "metadata": {},
   "outputs": [
    {
     "name": "stdout",
     "output_type": "stream",
     "text": [
      "Fitting 5 folds for each of 16 candidates, totalling 80 fits\n"
     ]
    }
   ],
   "source": [
    "# Perform GridSearchCV\n",
    "grid_search = GridSearchCV(svm, param_grid, cv=5, n_jobs=-1, verbose=1)\n",
    "grid_search.fit(X_train_tfidf, y_train)\n",
    "\n",
    "# Get best model\n",
    "best_svm = grid_search.best_estimator_"
   ]
  },
  {
   "cell_type": "markdown",
   "metadata": {},
   "source": [
    "This code evaluates the best SVM model on the test set, prints accuracy and a detailed classification report, and defines a `predict_fake_news` function for making predictions on new text inputs, which includes text preprocessing, vectorization, and returning both the prediction and probability of being suspicious."
   ]
  },
  {
   "cell_type": "code",
   "execution_count": 75,
   "metadata": {},
   "outputs": [
    {
     "name": "stdout",
     "output_type": "stream",
     "text": [
      "\n",
      "Best parameters: {'C': 10, 'gamma': 'scale'}\n",
      "Accuracy on test set: 0.9731\n",
      "\n",
      "Classification Report:\n",
      "              precision    recall  f1-score   support\n",
      "\n",
      "           0       0.97      0.98      0.98      1375\n",
      "           1       0.98      0.97      0.97      1190\n",
      "\n",
      "    accuracy                           0.97      2565\n",
      "   macro avg       0.97      0.97      0.97      2565\n",
      "weighted avg       0.97      0.97      0.97      2565\n",
      "\n"
     ]
    }
   ],
   "source": [
    "# Evaluate on the test set\n",
    "y_pred = best_svm.predict(X_test_tfidf)\n",
    "accuracy = accuracy_score(y_test, y_pred)\n",
    "print(f\"\\nBest parameters: {grid_search.best_params_}\")\n",
    "print(f\"Accuracy on test set: {accuracy:.4f}\")\n",
    "\n",
    "# Print detailed classification report\n",
    "print(\"\\nClassification Report:\")\n",
    "print(classification_report(y_test, y_pred))\n",
    "\n",
    "# Function for inference\n",
    "def predict_fake_news(text, model, vectorizer):\n",
    "    processed_text = preprocess_text(text)\n",
    "    tfidf_vector = vectorizer.transform([processed_text])\n",
    "    prediction = model.predict(tfidf_vector)[0]\n",
    "    probability = model.predict_proba(tfidf_vector)[0][1]\n",
    "    return prediction, probability\n"
   ]
  },
  {
   "cell_type": "markdown",
   "metadata": {},
   "source": [
    "\n",
    "\n",
    "This code generates and displays a confusion matrix heatmap for the SVM model's predictions on the test set, providing a visual representation of the model's performance in terms of true positives, true negatives, false positives, and false negatives."
   ]
  },
  {
   "cell_type": "code",
   "execution_count": 78,
   "metadata": {},
   "outputs": [
    {
     "data": {
      "image/png": "[encoded data removed]",
      "text/plain": [
       "<Figure size 1000x700 with 2 Axes>"
      ]
     },
     "metadata": {},
     "output_type": "display_data"
    }
   ],
   "source": [
    "# Confusion Matrix\n",
    "cm = confusion_matrix(y_test, y_pred)\n",
    "plt.figure(figsize=(10,7))\n",
    "sns.heatmap(cm, annot=True, fmt='d', cmap='Blues')\n",
    "plt.title('Confusion Matrix')\n",
    "plt.ylabel('Actual')\n",
    "plt.xlabel('Predicted')\n",
    "plt.show()"
   ]
  },
  {
   "cell_type": "markdown",
   "metadata": {},
   "source": [
    "\n",
    "\n",
    "This code calculates and plots the Receiver Operating Characteristic (ROC) curve for the SVM model, including the Area Under the Curve (AUC) score, which provides a visual and quantitative assessment of the model's ability to distinguish between the two classes (credible and suspicious news) across various classification thresholds."
   ]
  },
  {
   "cell_type": "code",
   "execution_count": 80,
   "metadata": {},
   "outputs": [
    {
     "data": {
      "image/png": "[encoded data removed]",
      "text/plain": [
       "<Figure size 1000x700 with 1 Axes>"
      ]
     },
     "metadata": {},
     "output_type": "display_data"
    }
   ],
   "source": [
    "# ROC Curve\n",
    "y_pred_proba = best_svm.predict_proba(X_test_tfidf)[:, 1]\n",
    "fpr, tpr, _ = roc_curve(y_test, y_pred_proba)\n",
    "roc_auc = auc(fpr, tpr)\n",
    "\n",
    "plt.figure(figsize=(10,7))\n",
    "plt.plot(fpr, tpr, color='darkorange', lw=2, label=f'ROC curve (AUC = {roc_auc:.2f})')\n",
    "plt.plot([0, 1], [0, 1], color='navy', lw=2, linestyle='--')\n",
    "plt.xlim([0.0, 1.0])\n",
    "plt.ylim([0.0, 1.05])\n",
    "plt.xlabel('False Positive Rate')\n",
    "plt.ylabel('True Positive Rate')\n",
    "plt.title('Receiver Operating Characteristic (ROC) Curve')\n",
    "plt.legend(loc=\"lower right\")\n",
    "plt.show()"
   ]
  },
  {
   "cell_type": "markdown",
   "metadata": {},
   "source": [
    "This code calculates and plots the Precision-Recall curve for the SVM model, including the Area Under the Curve (AUC) score, which provides a visual and quantitative assessment of the model's performance in terms of precision and recall across different classification thresholds, particularly useful for imbalanced datasets."
   ]
  },
  {
   "cell_type": "code",
   "execution_count": 81,
   "metadata": {},
   "outputs": [
    {
     "data": {
      "image/png": "[encoded data removed]",
      "text/plain": [
       "<Figure size 1000x700 with 1 Axes>"
      ]
     },
     "metadata": {},
     "output_type": "display_data"
    }
   ],
   "source": [
    "# Precision-Recall Curve\n",
    "precision, recall, _ = precision_recall_curve(y_test, y_pred_proba)\n",
    "pr_auc = auc(recall, precision)\n",
    "\n",
    "plt.figure(figsize=(10,7))\n",
    "plt.plot(recall, precision, color='blue', lw=2, label=f'Precision-Recall curve (AUC = {pr_auc:.2f})')\n",
    "plt.xlim([0.0, 1.0])\n",
    "plt.ylim([0.0, 1.05])\n",
    "plt.xlabel('Recall')\n",
    "plt.ylabel('Precision')\n",
    "plt.title('Precision-Recall Curve')\n",
    "plt.legend(loc=\"lower left\")\n",
    "plt.show()\n"
   ]
  },
  {
   "cell_type": "markdown",
   "metadata": {},
   "source": [
    "This code defines two functions:\n",
    "\n",
    "1. `predict_fake_news`: This function takes a text input, preprocesses it, transforms it using the TF-IDF vectorizer, and then uses the trained SVM model to predict whether the text is suspicious or credible, returning both the prediction and the probability of being suspicious.\n",
    "\n",
    "2. `user_input_inference`: This function creates an interactive loop where users can input news article text. It calls `predict_fake_news` for each input and displays the prediction and probability. The loop continues until the user types 'quit'.\n",
    "\n",
    "Finally, the code calls `user_input_inference` with the best SVM model and vectorizer, allowing users to test the fake news detection model with their own inputs."
   ]
  },
  {
   "cell_type": "code",
   "execution_count": null,
   "metadata": {},
   "outputs": [],
   "source": [
    "def predict_fake_news(text, model, vectorizer):\n",
    "    processed_text = preprocess_text(text)\n",
    "    tfidf_vector = vectorizer.transform([processed_text])\n",
    "    prediction = model.predict(tfidf_vector)[0]\n",
    "    probability = model.predict_proba(tfidf_vector)[0][1]\n",
    "    return prediction, probability\n",
    "\n",
    "def user_input_inference(model, vectorizer):\n",
    "    while True:\n",
    "        user_text = input(\"Enter a news article text (or 'quit' to exit): \")\n",
    "        if user_text.lower() == 'quit':\n",
    "            break\n",
    "        \n",
    "        prediction, probability = predict_fake_news(user_text, model, vectorizer)\n",
    "        \n",
    "        print(f\"\\nPrediction: {'Suspicious' if prediction == 1 else 'Credible'}\")\n",
    "        print(f\"Probability of being Suspicious: {probability:.4f}\")\n",
    "        print(\"\\n\" + \"-\"*50 + \"\\n\")\n",
    "\n",
    "# Call the function for user input and inference\n",
    "user_input_inference(best_svm, vectorizer)"
   ]
  },
  {
   "cell_type": "markdown",
   "metadata": {},
   "source": [
    "This code saves the trained SVM model and TF-IDF vectorizer to disk using pickle, allowing them to be easily loaded and reused in future sessions or applications without the need to retrain the model or recreate the vectorizer.\n",
    "\n",
    "Specifically:\n",
    "1. The best SVM model is saved as 'svm_model.pkl'\n",
    "2. The TF-IDF vectorizer is saved as 'tfidf_vectorizer.pkl'\n",
    "3. A success message is printed to confirm the saving process\n",
    "\n",
    "These saved files can be later loaded to make predictions on new data without having to retrain the entire model."
   ]
  },
  {
   "cell_type": "code",
   "execution_count": 86,
   "metadata": {},
   "outputs": [
    {
     "name": "stdout",
     "output_type": "stream",
     "text": [
      "Model and vectorizer saved successfully.\n"
     ]
    }
   ],
   "source": [
    "# Save the SVM model\n",
    "with open('svm_model.pkl', 'wb') as f:\n",
    "    pickle.dump(best_svm, f)\n",
    "\n",
    "# Save the TF-IDF vectorizer\n",
    "with open('tfidf_vectorizer.pkl', 'wb') as f:\n",
    "    pickle.dump(vectorizer, f)\n",
    "\n",
    "print(\"Model and vectorizer saved successfully.\")"
   ]
  }
 ],
 "metadata": {
  "kernelspec": {
   "display_name": "Python 3",
   "language": "python",
   "name": "python3"
  },
  "language_info": {
   "codemirror_mode": {
    "name": "ipython",
    "version": 3
   },
   "file_extension": ".py",
   "mimetype": "text/x-python",
   "name": "python",
   "nbconvert_exporter": "python",
   "pygments_lexer": "ipython3",
   "version": "3.12.7"
  }
 },
 "nbformat": 4,
 "nbformat_minor": 2
}
